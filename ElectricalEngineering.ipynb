{
 "cells": [
  {
   "cell_type": "markdown",
   "id": "c44a5cbe-cd9f-4a75-b7d4-b8850ff53c06",
   "metadata": {},
   "source": [
    "1. Introduction"
   ]
  },
  {
   "cell_type": "raw",
   "id": "9db31f18-e649-4593-b8cf-e01be2197113",
   "metadata": {},
   "source": []
  },
  {
   "cell_type": "code",
   "execution_count": 1,
   "id": "eba8e0b1-d2c8-4ac7-b875-653699b1ebfd",
   "metadata": {},
   "outputs": [],
   "source": [
    "from sympy import *\n",
    "import warnings"
   ]
  },
  {
   "cell_type": "code",
   "execution_count": 2,
   "id": "a118e3f8-354e-47fb-9d40-7cdc383aeb02",
   "metadata": {},
   "outputs": [
    {
     "data": {
      "text/latex": [
       "$\\displaystyle 0.5 \\pi \\left(- \\frac{1}{j n} + \\frac{2 e^{- \\pi j n}}{j n} - \\frac{e^{- 2 \\pi j n}}{j n}\\right)$"
      ],
      "text/plain": [
       "       /           -pi*j*n    -2*pi*j*n\\\n",
       "       |   1    2*e          e         |\n",
       "0.5*pi*|- --- + ---------- - ----------|\n",
       "       \\  j*n      j*n          j*n    /"
      ]
     },
     "execution_count": 2,
     "metadata": {},
     "output_type": "execute_result"
    }
   ],
   "source": [
    "warnings.filterwarnings('ignore')\n",
    "init_printing(use_unicode=False, wrap_line=False, no_global=True)\n",
    "\n",
    "a,b,c,d,f1,f2,n,t,w = symbols('a,b,c,d,f1,f2,n,t,w ',positive=True)\n",
    "j = symbols('j',real=false,positive = false)\n",
    "\n",
    "T = 2*pi\n",
    "f = 1/T\n",
    "w = 2*pi*f\n",
    "\n",
    "a = 0\n",
    "b = pi\n",
    "c = pi\n",
    "d = 2*pi\n",
    "f1 = -1\n",
    "f2 = 1\n",
    "Dn = (1/2*pi)*(integrate(f1*exp(-j*n*t),(t,a,b),conds='none')+integrate(f2*exp(-j*n*t),(t,c,d),conds='none'))\n",
    "Dn"
   ]
  }
 ],
 "metadata": {
  "kernelspec": {
   "display_name": "Python 3 (ipykernel)",
   "language": "python",
   "name": "python3"
  },
  "language_info": {
   "codemirror_mode": {
    "name": "ipython",
    "version": 3
   },
   "file_extension": ".py",
   "mimetype": "text/x-python",
   "name": "python",
   "nbconvert_exporter": "python",
   "pygments_lexer": "ipython3",
   "version": "3.7.9"
  },
  "toc-autonumbering": true,
  "toc-showcode": true
 },
 "nbformat": 4,
 "nbformat_minor": 5
}
